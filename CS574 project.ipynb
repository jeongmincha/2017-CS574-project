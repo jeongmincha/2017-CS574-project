{
 "cells": [
  {
   "cell_type": "code",
   "execution_count": 3,
   "metadata": {
    "collapsed": false
   },
   "outputs": [],
   "source": [
    "import datetime, time\n",
    "import json\n",
    "import numpy as np\n",
    "import pandas as pd\n",
    "import matplotlib.pyplot as plt\n",
    "%matplotlib inline\n",
    "\n",
    "from bs4 import BeautifulSoup\n",
    "import requests"
   ]
  },
  {
   "cell_type": "code",
   "execution_count": 4,
   "metadata": {
    "collapsed": false
   },
   "outputs": [],
   "source": [
    "csv = pd.read_csv('./data/3-15_22.csv')"
   ]
  },
  {
   "cell_type": "code",
   "execution_count": 12,
   "metadata": {
    "collapsed": false
   },
   "outputs": [
    {
     "data": {
      "text/html": [
       "<div>\n",
       "<table border=\"1\" class=\"dataframe\">\n",
       "  <thead>\n",
       "    <tr style=\"text-align: right;\">\n",
       "      <th></th>\n",
       "      <th>goal</th>\n",
       "      <th>usd_pledged</th>\n",
       "    </tr>\n",
       "  </thead>\n",
       "  <tbody>\n",
       "    <tr>\n",
       "      <th>0</th>\n",
       "      <td>6666</td>\n",
       "      <td>7916.0</td>\n",
       "    </tr>\n",
       "    <tr>\n",
       "      <th>1</th>\n",
       "      <td>750</td>\n",
       "      <td>1626.0</td>\n",
       "    </tr>\n",
       "  </tbody>\n",
       "</table>\n",
       "</div>"
      ],
      "text/plain": [
       "   goal  usd_pledged\n",
       "0  6666       7916.0\n",
       "1   750       1626.0"
      ]
     },
     "execution_count": 12,
     "metadata": {},
     "output_type": "execute_result"
    }
   ],
   "source": [
    "csv.loc[:1, ['goal', 'usd_pledged']]"
   ]
  },
  {
   "cell_type": "code",
   "execution_count": 19,
   "metadata": {
    "collapsed": true
   },
   "outputs": [],
   "source": [
    "csv['percentage'] = csv['usd_pledged'] / csv['goal']\n",
    "csv['duration'] = csv['deadline'] - csv['launched_at']\n"
   ]
  },
  {
   "cell_type": "code",
   "execution_count": 23,
   "metadata": {
    "collapsed": false
   },
   "outputs": [],
   "source": [
    "def boolean_to_number(x):\n",
    "    if x is True:\n",
    "        return 1\n",
    "    elif x is False:\n",
    "        return 0\n",
    "\n",
    "csv['spotlight_num'] = csv['spotlight'].apply(boolean_to_number)"
   ]
  },
  {
   "cell_type": "code",
   "execution_count": 32,
   "metadata": {
    "collapsed": true
   },
   "outputs": [],
   "source": [
    "target_features = ['usd_pledged', 'backers_count', 'percentage']\n",
    "input_features = ['goal', 'deadline', 'launched_at', 'duration', 'spotlight_num'] + list(csv.columns[33:-3])"
   ]
  },
  {
   "cell_type": "code",
   "execution_count": 48,
   "metadata": {
    "collapsed": false
   },
   "outputs": [
    {
     "data": {
      "text/plain": [
       "44930"
      ]
     },
     "execution_count": 48,
     "metadata": {},
     "output_type": "execute_result"
    }
   ],
   "source": [
    "len(input_features)"
   ]
  },
  {
   "cell_type": "code",
   "execution_count": 50,
   "metadata": {
    "collapsed": false
   },
   "outputs": [
    {
     "name": "stdout",
     "output_type": "stream",
     "text": [
      "... Normalize features\n",
      "... Training\n"
     ]
    },
    {
     "data": {
      "text/plain": [
       "Ridge(alpha=0.5, copy_X=True, fit_intercept=True, max_iter=None,\n",
       "   normalize=False, random_state=None, solver='auto', tol=0.001)"
      ]
     },
     "execution_count": 50,
     "metadata": {},
     "output_type": "execute_result"
    }
   ],
   "source": [
    "from sklearn import linear_model\n",
    "from sklearn import preprocessing\n",
    "\n",
    "x = csv[input_features] # 44930 (5 + 44925)\n",
    "y = csv[target_features] # 3\n",
    "\n",
    "print (\"... Normalize features\")\n",
    "min_max_scalar = preprocessing.MinMaxScaler()\n",
    "x_scaled = min_max_scalar.fit_transform(x)\n",
    "x_scaled = pd.DataFrame(x_scaled)\n",
    "y_scaled = min_max_scalar.fit_transform(y)\n",
    "y_scaled = pd.DataFrame(y_scaled)\n",
    "\n",
    "print (\"... Training\")\n",
    "reg = linear_model.Ridge(alpha=.5)\n",
    "reg.fit(x_scaled, y_scaled)"
   ]
  },
  {
   "cell_type": "code",
   "execution_count": 57,
   "metadata": {
    "collapsed": false
   },
   "outputs": [],
   "source": [
    "coef = pd.DataFrame(reg.coef_, columns=input_features)"
   ]
  },
  {
   "cell_type": "code",
   "execution_count": 58,
   "metadata": {
    "collapsed": false
   },
   "outputs": [
    {
     "data": {
      "text/html": [
       "<div>\n",
       "<table border=\"1\" class=\"dataframe\">\n",
       "  <thead>\n",
       "    <tr style=\"text-align: right;\">\n",
       "      <th></th>\n",
       "      <th>goal</th>\n",
       "      <th>deadline</th>\n",
       "      <th>launched_at</th>\n",
       "      <th>duration</th>\n",
       "      <th>spotlight_num</th>\n",
       "      <th>0</th>\n",
       "      <th>1</th>\n",
       "      <th>2</th>\n",
       "      <th>3</th>\n",
       "      <th>4</th>\n",
       "      <th>...</th>\n",
       "      <th>44915</th>\n",
       "      <th>44916</th>\n",
       "      <th>44917</th>\n",
       "      <th>44918</th>\n",
       "      <th>44919</th>\n",
       "      <th>44920</th>\n",
       "      <th>44921</th>\n",
       "      <th>44922</th>\n",
       "      <th>44923</th>\n",
       "      <th>44924</th>\n",
       "    </tr>\n",
       "  </thead>\n",
       "  <tbody>\n",
       "    <tr>\n",
       "      <th>0</th>\n",
       "      <td>-0.000060</td>\n",
       "      <td>-0.001206</td>\n",
       "      <td>-0.001221</td>\n",
       "      <td>0.000147</td>\n",
       "      <td>0.000998</td>\n",
       "      <td>-0.000385</td>\n",
       "      <td>0.000050</td>\n",
       "      <td>0.000281</td>\n",
       "      <td>-0.000273</td>\n",
       "      <td>-0.000088</td>\n",
       "      <td>...</td>\n",
       "      <td>-0.000043</td>\n",
       "      <td>-0.000043</td>\n",
       "      <td>-0.000043</td>\n",
       "      <td>-0.000043</td>\n",
       "      <td>0.000003</td>\n",
       "      <td>0.0</td>\n",
       "      <td>0.0</td>\n",
       "      <td>0.0</td>\n",
       "      <td>0.0</td>\n",
       "      <td>0.0</td>\n",
       "    </tr>\n",
       "    <tr>\n",
       "      <th>1</th>\n",
       "      <td>-0.000055</td>\n",
       "      <td>-0.001075</td>\n",
       "      <td>-0.001086</td>\n",
       "      <td>0.000051</td>\n",
       "      <td>0.001591</td>\n",
       "      <td>-0.000433</td>\n",
       "      <td>0.000066</td>\n",
       "      <td>0.000293</td>\n",
       "      <td>-0.000283</td>\n",
       "      <td>0.000031</td>\n",
       "      <td>...</td>\n",
       "      <td>-0.000040</td>\n",
       "      <td>-0.000040</td>\n",
       "      <td>-0.000040</td>\n",
       "      <td>-0.000040</td>\n",
       "      <td>0.000003</td>\n",
       "      <td>0.0</td>\n",
       "      <td>0.0</td>\n",
       "      <td>0.0</td>\n",
       "      <td>0.0</td>\n",
       "      <td>0.0</td>\n",
       "    </tr>\n",
       "    <tr>\n",
       "      <th>2</th>\n",
       "      <td>0.000076</td>\n",
       "      <td>0.000027</td>\n",
       "      <td>0.000016</td>\n",
       "      <td>0.000324</td>\n",
       "      <td>0.000887</td>\n",
       "      <td>-0.000826</td>\n",
       "      <td>-0.000034</td>\n",
       "      <td>-0.000304</td>\n",
       "      <td>0.000043</td>\n",
       "      <td>0.000450</td>\n",
       "      <td>...</td>\n",
       "      <td>0.000100</td>\n",
       "      <td>0.000100</td>\n",
       "      <td>0.000100</td>\n",
       "      <td>0.000100</td>\n",
       "      <td>0.000121</td>\n",
       "      <td>0.0</td>\n",
       "      <td>0.0</td>\n",
       "      <td>0.0</td>\n",
       "      <td>0.0</td>\n",
       "      <td>0.0</td>\n",
       "    </tr>\n",
       "  </tbody>\n",
       "</table>\n",
       "<p>3 rows × 44930 columns</p>\n",
       "</div>"
      ],
      "text/plain": [
       "       goal  deadline  launched_at  duration  spotlight_num         0  \\\n",
       "0 -0.000060 -0.001206    -0.001221  0.000147       0.000998 -0.000385   \n",
       "1 -0.000055 -0.001075    -0.001086  0.000051       0.001591 -0.000433   \n",
       "2  0.000076  0.000027     0.000016  0.000324       0.000887 -0.000826   \n",
       "\n",
       "          1         2         3         4  ...       44915     44916  \\\n",
       "0  0.000050  0.000281 -0.000273 -0.000088  ...   -0.000043 -0.000043   \n",
       "1  0.000066  0.000293 -0.000283  0.000031  ...   -0.000040 -0.000040   \n",
       "2 -0.000034 -0.000304  0.000043  0.000450  ...    0.000100  0.000100   \n",
       "\n",
       "      44917     44918     44919  44920  44921  44922  44923  44924  \n",
       "0 -0.000043 -0.000043  0.000003    0.0    0.0    0.0    0.0    0.0  \n",
       "1 -0.000040 -0.000040  0.000003    0.0    0.0    0.0    0.0    0.0  \n",
       "2  0.000100  0.000100  0.000121    0.0    0.0    0.0    0.0    0.0  \n",
       "\n",
       "[3 rows x 44930 columns]"
      ]
     },
     "execution_count": 58,
     "metadata": {},
     "output_type": "execute_result"
    }
   ],
   "source": [
    "coef"
   ]
  },
  {
   "cell_type": "code",
   "execution_count": 71,
   "metadata": {
    "collapsed": false
   },
   "outputs": [
    {
     "name": "stdout",
     "output_type": "stream",
     "text": [
      "6480\n"
     ]
    }
   ],
   "source": [
    "target_idx = 1\n",
    "mx = max(reg.coef_[target_idx])\n",
    "for idx in range(len(reg.coef_[target_idx])):\n",
    "    if reg.coef_[target_idx][idx] == mx:\n",
    "        print (idx)"
   ]
  },
  {
   "cell_type": "code",
   "execution_count": null,
   "metadata": {
    "collapsed": true
   },
   "outputs": [],
   "source": []
  }
 ],
 "metadata": {
  "anaconda-cloud": {},
  "kernelspec": {
   "display_name": "Python 3",
   "language": "python",
   "name": "python3"
  },
  "language_info": {
   "codemirror_mode": {
    "name": "ipython",
    "version": 3
   },
   "file_extension": ".py",
   "mimetype": "text/x-python",
   "name": "python",
   "nbconvert_exporter": "python",
   "pygments_lexer": "ipython3",
   "version": "3.6.0"
  }
 },
 "nbformat": 4,
 "nbformat_minor": 2
}
